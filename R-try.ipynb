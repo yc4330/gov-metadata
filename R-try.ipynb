{
 "cells": [
  {
   "cell_type": "markdown",
   "metadata": {},
   "source": [
    "\n",
    "## Setup\n",
    "\n",
    "Ignore / skip this step"
   ]
  },
  {
   "cell_type": "code",
   "execution_count": 1,
   "metadata": {},
   "outputs": [],
   "source": [
    "%load_ext rpy2.ipython\n",
    "%load_ext autoreload\n",
    "%autoreload 2\n",
    "\n",
    "%matplotlib inline  \n",
    "from matplotlib import rcParams\n",
    "rcParams['figure.figsize'] = (16, 100)\n",
    "\n",
    "import warnings\n",
    "from rpy2.rinterface import RRuntimeWarning\n",
    "warnings.filterwarnings(\"ignore\") # Ignore all warnings\n",
    "# warnings.filterwarnings(\"ignore\", category=RRuntimeWarning) # Show some warnings\n",
    "\n",
    "import pandas as pd\n",
    "import numpy as np\n",
    "import matplotlib.pyplot as plt\n",
    "from IPython.display import display, HTML"
   ]
  },
  {
   "cell_type": "code",
   "execution_count": 2,
   "metadata": {},
   "outputs": [
    {
     "data": {
      "application/javascript": "// Disable auto-scrolling\nIPython.OutputArea.prototype._should_scroll = function(lines) {\n    return false;\n}\n",
      "text/plain": [
       "<IPython.core.display.Javascript object>"
      ]
     },
     "metadata": {},
     "output_type": "display_data"
    }
   ],
   "source": [
    "%%javascript\n",
    "// Disable auto-scrolling\n",
    "IPython.OutputArea.prototype._should_scroll = function(lines) {\n",
    "    return false;\n",
    "}"
   ]
  },
  {
   "cell_type": "markdown",
   "metadata": {},
   "source": [
    "This is a Python notebook, but below is an R cell. The `%%R` at the top of the cell indicates that the code in this cell will be R code."
   ]
  },
  {
   "cell_type": "code",
   "execution_count": 3,
   "metadata": {},
   "outputs": [
    {
     "name": "stdout",
     "output_type": "stream",
     "text": [
      "── Attaching core tidyverse packages ──────────────────────── tidyverse 2.0.0 ──\n",
      "✔ dplyr     1.1.4     ✔ readr     2.1.5\n",
      "✔ forcats   1.0.0     ✔ stringr   1.5.1\n",
      "✔ ggplot2   3.4.4     ✔ tibble    3.2.1\n",
      "✔ lubridate 1.9.3     ✔ tidyr     1.3.0\n",
      "✔ purrr     1.0.2     \n",
      "── Conflicts ────────────────────────────────────────── tidyverse_conflicts() ──\n",
      "✖ dplyr::filter() masks stats::filter()\n",
      "✖ dplyr::lag()    masks stats::lag()\n",
      "ℹ Use the conflicted package (<http://conflicted.r-lib.org/>) to force all conflicts to become errors\n"
     ]
    },
    {
     "data": {
      "text/plain": [
       "Loading required package: tidyverse\n"
      ]
     },
     "metadata": {},
     "output_type": "display_data"
    }
   ],
   "source": [
    "%%R\n",
    "\n",
    "# My commonly used R imports\n",
    "\n",
    "require('tidyverse')"
   ]
  },
  {
   "cell_type": "markdown",
   "metadata": {},
   "source": [
    "## Load Data"
   ]
  },
  {
   "cell_type": "markdown",
   "metadata": {},
   "source": [
    "Making some fake data for our fake writing competition."
   ]
  },
  {
   "cell_type": "code",
   "execution_count": 4,
   "metadata": {},
   "outputs": [],
   "source": [
    "%%R -w 1000 -o df\n",
    "\n",
    "# load data scored.csv into dataframe df\n",
    "df <- read.csv('scored.csv')"
   ]
  },
  {
   "cell_type": "code",
   "execution_count": 10,
   "metadata": {},
   "outputs": [
    {
     "name": "stdout",
     "output_type": "stream",
     "text": [
      " [1] \"Domain.name\"       \"name\"              \"title\"            \n",
      " [4] \"description\"       \"robots\"            \"viewport\"         \n",
      " [7] \"canonical\"         \"ogLocale\"          \"ogSiteName\"       \n",
      "[10] \"ogType\"            \"ogTitle\"           \"ogDescription\"    \n",
      "[13] \"ogUrl\"             \"ogImage\"           \"ogImageAlt\"       \n",
      "[16] \"Domain.type\"       \"Agency\"            \"Organization.name\"\n",
      "[19] \"City\"              \"State\"             \"score\"            \n",
      "[22] \"count\"            \n"
     ]
    }
   ],
   "source": [
    "%%R \n",
    "# Show the column names of the dataframe\n",
    "colnames(df)"
   ]
  },
  {
   "cell_type": "code",
   "execution_count": 33,
   "metadata": {},
   "outputs": [
    {
     "data": {
      "image/png": "[encoded data removed]",
      "text/plain": [
       "<IPython.core.display.Image object>"
      ]
     },
     "metadata": {},
     "output_type": "display_data"
    }
   ],
   "source": [
    "%%R -w 300 -h 200\n",
    "\n",
    "# groupby \"Domain.type\", count the number of rows in each group, and draw a bar plot\n",
    "df %>% \n",
    "    group_by(score) %>% \n",
    "    summarise(n = n()) %>% \n",
    "    ggplot(aes(x=score, y=n)) + \n",
    "    geom_bar(stat=\"identity\") +\n",
    "    # add title \"Government websites scored 40 in average\"\n",
    "    ggtitle(\"Government websites scored 40 in average\")"
   ]
  },
  {
   "cell_type": "code",
   "execution_count": 22,
   "metadata": {},
   "outputs": [
    {
     "name": "stdout",
     "output_type": "stream",
     "text": [
      "              Domain.name\n",
      "1                onrr.gov\n",
      "2                 pay.gov\n",
      "3        treaslockbox.gov\n",
      "4 realpropertyprofile.gov\n",
      "5                 nmb.gov\n",
      "6               nscai.gov\n",
      "                                                     name\n",
      "1                              Department Of The Interior\n",
      "2                              Department Of The Treasury\n",
      "3                              Department Of The Treasury\n",
      "4                         General Services Administration\n",
      "5                                National Mediation Board\n",
      "6 National Security Commission On Artificial Intelligence\n"
     ]
    }
   ],
   "source": [
    "%%R \n",
    "# Show the rows where score=0, show the Domain.name and name columns\n",
    "df %>% filter(score==0) %>% select(Domain.name, name)"
   ]
  },
  {
   "cell_type": "code",
   "execution_count": 24,
   "metadata": {},
   "outputs": [
    {
     "name": "stdout",
     "output_type": "stream",
     "text": [
      "            Domain.name                                          name\n",
      "1               dhs.gov               Department Of Homeland Security\n",
      "2  homelandsecurity.gov               Department Of Homeland Security\n",
      "3               epa.gov               Environmental Protection Agency\n",
      "4      relocatefeds.gov               Environmental Protection Agency\n",
      "5       urbanwaters.gov               Environmental Protection Agency\n",
      "6              nasa.gov National Aeronautics And Space Administration\n",
      "7               nrc.gov                 Nuclear Regulatory Commission\n",
      "8               ssa.gov                Social Security Administration\n",
      "9    socialsecurity.gov                Social Security Administration\n",
      "10     segurosocial.gov                Social Security Administration\n",
      "11             scrc.gov        Southeast Crescent Regional Commission\n"
     ]
    }
   ],
   "source": [
    "%%R \n",
    "# Show the rows where score=100, show the Domain.name and name columns\n",
    "df %>% filter(score==100) %>% select(Domain.name, name)"
   ]
  },
  {
   "cell_type": "code",
   "execution_count": 17,
   "metadata": {},
   "outputs": [
    {
     "name": "stdout",
     "output_type": "stream",
     "text": [
      "# A tibble: 123 × 2\n",
      "   name                                        n\n",
      "   <chr>                                   <int>\n",
      " 1 Department Of Health And Human Services   100\n",
      " 2 General Services Administration            83\n",
      " 3 Department Of The Treasury                 62\n",
      " 4 Department Of Justice                      57\n",
      " 5 Department Of Commerce                     48\n",
      " 6 Department Of Energy                       36\n",
      " 7 Department Of The Interior                 36\n",
      " 8 Department Of Homeland Security            34\n",
      " 9 Executive Office Of The President          32\n",
      "10 Department Of Labor                        26\n",
      "# ℹ 113 more rows\n",
      "# ℹ Use `print(n = ...)` to see more rows\n"
     ]
    }
   ],
   "source": [
    "%%R \n",
    "# groupby name, count the number of rows in each group, and sort the result in descending order\n",
    "df %>% group_by(name) %>% summarise(n = n()) %>% arrange(desc(n))"
   ]
  },
  {
   "cell_type": "code",
   "execution_count": 54,
   "metadata": {},
   "outputs": [
    {
     "name": "stdout",
     "output_type": "stream",
     "text": [
      "`summarise()` has grouped output by 'name'. You can override using the\n",
      "`.groups` argument.\n"
     ]
    }
   ],
   "source": [
    "%%R -o org_mean_score\n",
    "# filter the rows where name=\"Department Of Health And Human Services\", groupby Organization.name, count the number of rows and mean score in each group, sort by n in descending order\n",
    "org_mean_score <- df %>% group_by(name, Organization.name) %>% summarise(n = n(), mean_score = mean(score)) %>% arrange(desc(n))\n",
    "# save org_mean_score into csv\n",
    "write.csv(org_mean_score, 'org_mean_score.csv', row.names=FALSE)"
   ]
  },
  {
   "cell_type": "code",
   "execution_count": 57,
   "metadata": {},
   "outputs": [],
   "source": [
    "%%R\n",
    "# filter name=\"Department Of Health And Human Services\" or \"General Services Administration\"\n",
    "org_mean_score <- org_mean_score %>% filter(name==\"Department Of Health And Human Services\" | name==\"General Services Administration\" | name==\"Department Of The Treasury\"| name==\"Department Of Justice\"| name==\"Department Of Commerce\" | name==\"Department Of Energy\" | name==\"Department Of The Interior\" | name==\"Department Of Homeland Security\" | name==\"Executive Office Of The President\" | name==\"Department Of Labor\")\n",
    "write.csv(org_mean_score, 'org_mean_score.csv', row.names=FALSE)"
   ]
  },
  {
   "cell_type": "code",
   "execution_count": 59,
   "metadata": {},
   "outputs": [
    {
     "name": "stdout",
     "output_type": "stream",
     "text": [
      "`summarise()` has grouped output by 'name'. You can override using the\n",
      "`.groups` argument.\n",
      "# A tibble: 117 × 3\n",
      "# Groups:   name [10]\n",
      "   name                                    mean_score     n\n",
      "   <chr>                                        <dbl> <int>\n",
      " 1 General Services Administration                 15    11\n",
      " 2 Department Of Commerce                          23     6\n",
      " 3 Department Of Energy                            23     6\n",
      " 4 Department Of Homeland Security                 23     6\n",
      " 5 Department Of The Interior                      15     6\n",
      " 6 Department Of The Treasury                      23     6\n",
      " 7 Department Of Energy                            92     5\n",
      " 8 Department Of Health And Human Services         31     5\n",
      " 9 Department Of Energy                            15     4\n",
      "10 Department Of Health And Human Services         23     4\n",
      "# ℹ 107 more rows\n",
      "# ℹ Use `print(n = ...)` to see more rows\n"
     ]
    }
   ],
   "source": [
    "%%R\n",
    "# groupby name, groupby score, count the number of rows in each group\n",
    "org_mean_score %>% group_by(name, mean_score) %>% summarise(n = n()) %>% arrange(desc(n))"
   ]
  },
  {
   "cell_type": "code",
   "execution_count": 27,
   "metadata": {},
   "outputs": [
    {
     "name": "stdout",
     "output_type": "stream",
     "text": [
      "# A tibble: 30 × 2\n",
      "   State     n\n",
      "   <chr> <int>\n",
      " 1 \"DC\"    547\n",
      " 2 \"MD\"    111\n",
      " 3 \"VA\"     92\n",
      " 4 \"GA\"     20\n",
      " 5 \"CO\"     10\n",
      " 6 \"TN\"     10\n",
      " 7 \"\"        6\n",
      " 8 \"AL\"      6\n",
      " 9 \"CA\"      6\n",
      "10 \"WV\"      5\n",
      "# ℹ 20 more rows\n",
      "# ℹ Use `print(n = ...)` to see more rows\n"
     ]
    }
   ],
   "source": [
    "%%R\n",
    "# groupby State, count the number of rows in each group, and sort the result in descending order\n",
    "df %>% group_by(State) %>% summarise(n = n()) %>% arrange(desc(n))"
   ]
  },
  {
   "cell_type": "code",
   "execution_count": 28,
   "metadata": {},
   "outputs": [
    {
     "name": "stdout",
     "output_type": "stream",
     "text": [
      "# A tibble: 3 × 2\n",
      "  Domain.type               n\n",
      "  <chr>                 <int>\n",
      "1 Federal - Executive     769\n",
      "2 Federal - Legislative    77\n",
      "3 Federal - Judicial        6\n"
     ]
    }
   ],
   "source": [
    "%%R\n",
    "# groupby type, count the number of rows in each group, and sort the result in descending order\n",
    "df %>% group_by(Domain.type) %>% summarise(n = n()) %>% arrange(desc(n))"
   ]
  },
  {
   "cell_type": "code",
   "execution_count": 49,
   "metadata": {},
   "outputs": [],
   "source": [
    "%%R -o type_mean\n",
    "# load type_mean.csv\n",
    "type_mean <- read.csv('type_mean.csv')"
   ]
  }
 ],
 "metadata": {
  "kernelspec": {
   "display_name": "Python 3 (ipykernel)",
   "language": "python",
   "name": "python3"
  },
  "language_info": {
   "codemirror_mode": {
    "name": "ipython",
    "version": 3
   },
   "file_extension": ".py",
   "mimetype": "text/x-python",
   "name": "python",
   "nbconvert_exporter": "python",
   "pygments_lexer": "ipython3",
   "version": "3.11.6"
  }
 },
 "nbformat": 4,
 "nbformat_minor": 4
}
